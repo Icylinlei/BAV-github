{
  "cells": [
    {
      "cell_type": "code",
      "execution_count": null,
      "metadata": {
        "id": "5PrNnKKnIcyX"
      },
      "outputs": [],
      "source": [
        "!pip3 install requests\n"
      ]
    },
    {
      "cell_type": "code",
      "execution_count": 2,
      "metadata": {
        "id": "wppnwmAQM75H"
      },
      "outputs": [],
      "source": [
        "import pandas as pd\n",
        "from tqdm import tqdm\n",
        "\n",
        "brands = pd.read_csv(r\"") # replace with your actual brand names\n"
      ]
    },
    {
      "cell_type": "code",
      "execution_count": null,
      "metadata": {
        "id": "k0InM1T4L1hM"
      },
      "outputs": [],
      "source": [
        "import requests\n",
        "import json\n",
        "import pandas as pd\n",
        "from tqdm import tqdm\n",
        "import os\n",
        "\n",
        "\n",
        "# The Bing Search APIs endpoint\n",
        "# end_point = 'https://api.bing.microsoft.com/v7.0/search'\n",
        "\n",
        "# Add your Bing Search V7 subscription key and endpoint to your environment variables.\n",
        "subscription_key = ''\n",
        "endpoint = 'https://
        .bing.microsoft.com/v7.0/search'\n",
        "\n",
        "\n",
        "headers = {\n",
        "    # Request headers\n",
        "    'Ocp-Apim-Subscription-Key': subscription_key,\n",
        "}\n",
        "\n",
        "params = {\n",
        "    # Request parameters\n",
        "    'count': 10,\n",
        "    'offset': 0,\n",
        "    'mkt': 'en-US',\n",
        "    'safesearch': 'Moderate',\n",
        "}\n",
        "\n",
        "brands = pd.read_csv(r\"/content/drive/MyDrive/brand_name_quarterly - Sheet1.csv\") # replace with your actual brand names\n",
        "\n",
        "# Initialize dictionary to hold search results\n",
        "brand_search_results = {}\n",
        "\n",
        "for brand in tqdm(brands['brand_name']):\n",
        "    # The term you want to search\n",
        "    search_term = f'{brand} brand release NFT'\n",
        "\n",
        "    params['q'] = search_term\n",
        "\n",
        "    try:\n",
        "        # Make GET request\n",
        "        response = requests.get(endpoint, headers=headers, params=params)\n",
        "        # If the request is successful, the status code will be 200\n",
        "        if response.status_code == 200:\n",
        "            # Get the JSON result\n",
        "            search_results = response.json()\n",
        "            # Add the results to the dictionary under the current brand\n",
        "            brand_search_results[brand] = search_results\n",
        "        else:\n",
        "            print(f\"Error occurred: {response.status_code}\")\n",
        "    except Exception as e:\n",
        "        print(e)\n",
        "\n",
        "# Store all search results in one JSON file\n",
        "with open('/content/drive/MyDrive/all_brands_nft_search_results_1.json', 'w') as f:\n",
        "    json.dump(brand_search_results, f, indent=4)\n"
      ]
    },
    {
      "cell_type": "code",
      "source": [
        "import requests\n",
        "import json\n",
        "import pandas as pd\n",
        "from tqdm import tqdm\n",
        "import os\n",
        "\n",
        "\n",
        "subscription_key = ''\n",
        "endpoint = 'https://api.bing.microsoft.com/v7.0/search'\n",
        "\n",
        "headers = {\n",
        "    'Ocp-Apim-Subscription-Key': subscription_key,\n",
        "}\n",
        "\n",
        "params = {\n",
        "    'count': 5,\n",
        "    'offset': 0,\n",
        "    'mkt': 'en-US',\n",
        "    'safesearch': 'Moderate',\n",
        "}\n",
        "\n",
        "brands = pd.read_csv(r\"/content/drive/MyDrive/brand_name_quarterly - Sheet1.csv\")\n",
        "\n",
        "# Initialize list to hold search results\n",
        "brand_search_results = []\n",
        "\n",
        "for brand in tqdm(brands['brand_name']):\n",
        "    search_term = f'{brand} brand release NFT'\n",
        "    params['q'] = search_term\n",
        "\n",
        "    try:\n",
        "        response = requests.get(endpoint, headers=headers, params=params)\n",
        "        if response.status_code == 200:\n",
        "            search_results = response.json()\n",
        "            # Append search results to the list\n",
        "            brand_search_results.append({\n",
        "                'brand': brand,\n",
        "                'search_results': search_results\n",
        "            })\n",
        "        else:\n",
        "            print(f\"Error occurred: {response.status_code}\")\n",
        "    except Exception as e:\n",
        "        print(e)\n",
        "\n",
        "# Create DataFrame from the list of search results\n",
        "df = pd.DataFrame(brand_search_results)\n",
        "\n",
        "# Store DataFrame as JSON file\n",
        "# df.to_json('/content/drive/MyDrive/all_brands_nft_search_results.json', orient='records', indent=4)\n"
      ],
      "metadata": {
        "id": "WDcJi4fj6wLG"
      },
      "execution_count": null,
      "outputs": []
    },
    {
      "cell_type": "code",
      "source": [
        "!pip3 install EdgeGPT --upgrade"
      ],
      "metadata": {
        "id": "NCaKvyAfTlFa"
      },
      "execution_count": null,
      "outputs": []
    },
    {
      "cell_type": "code",
      "source": [
        "!pip3 install selenium"
      ],
      "metadata": {
        "id": "w3XdfxZFW6N2"
      },
      "execution_count": null,
      "outputs": []
    },
    {
      "cell_type": "code",
      "source": [
        "!python3 -m EdgeGPT -h\n"
      ],
      "metadata": {
        "colab": {
          "base_uri": "https://localhost:8080/"
        },
        "id": "vyE22Ss0bBdB",
        "outputId": "7997c14a-3d4b-4335-b281-f9ad76c972f3"
      },
      "execution_count": 8,
      "outputs": [
        {
          "output_type": "stream",
          "name": "stdout",
          "text": [
            "\n",
            "        EdgeGPT - A demo of reverse engineering the Bing GPT chatbot\n",
            "        Repo: github.com/acheong08/EdgeGPT\n",
            "        By: Antonio Cheong\n",
            "\n",
            "        !help for help\n",
            "\n",
            "        Type !exit to exit\n",
            "    \n",
            "usage: EdgeGPT.py\n",
            "       [-h]\n",
            "       [--enter-once]\n",
            "       [--no-stream]\n",
            "       [--rich]\n",
            "       [--proxy PROXY]\n",
            "       [--wss-link WSS_LINK]\n",
            "       [--style {creative,balanced,precise}]\n",
            "       [--prompt PROMPT]\n",
            "       [--cookie-file COOKIE_FILE]\n",
            "       [--history-file HISTORY_FILE]\n",
            "\n",
            "options:\n",
            "  -h, --help\n",
            "    show this\n",
            "    help\n",
            "    message and\n",
            "    exit\n",
            "  --enter-once\n",
            "  --no-stream\n",
            "  --rich\n",
            "  --proxy PROXY\n",
            "    Proxy URL\n",
            "    (e.g. socks\n",
            "    5://127.0.0\n",
            "    .1:1080)\n",
            "  --wss-link WSS_LINK\n",
            "    WSS\n",
            "    URL(e.g. ws\n",
            "    s://sydney.\n",
            "    bing.com/sy\n",
            "    dney/ChatHu\n",
            "    b)\n",
            "  --style {creative,balanced,precise}\n",
            "  --prompt PROMPT\n",
            "    prompt to\n",
            "    start with\n",
            "  --cookie-file COOKIE_FILE\n",
            "    path to\n",
            "    cookie file\n",
            "  --history-file HISTORY_FILE\n",
            "    path to\n",
            "    history\n",
            "    file\n"
          ]
        }
      ]
    },
    {
      "cell_type": "code",
      "source": [
        "import asyncio\n",
        "from EdgeGPT import Chatbot, ConversationStyle\n",
        "\n",
        "async def main():\n",
        "    bot = await Chatbot.create()\n",
        "    print(await bot.ask(prompt=\"Hello world\", conversation_style=ConversationStyle.creative))\n",
        "    await bot.close()\n",
        "\n",
        "# Call main directly with await instead of using asyncio.run\n",
        "await main()\n"
      ],
      "metadata": {
        "colab": {
          "base_uri": "https://localhost:8080/"
        },
        "id": "m9R7zuUeNi8x",
        "outputId": "4bfb3786-68aa-4fb9-826e-8b4835aafefd"
      },
      "execution_count": 13,
      "outputs": [
        {
          "output_type": "stream",
          "name": "stdout",
          "text": [
            "{'type': 2, 'invocationId': '0', 'item': {'messages': [{'text': 'Hello world', 'author': 'user', 'from': {'id': '324A27F63F076239229734D43E4263DA', 'name': None}, 'createdAt': '2023-05-31T23:48:11.0148136+00:00', 'timestamp': '2023-05-31T23:48:11.0110928+00:00', 'locale': 'en-us', 'market': 'en-us', 'region': 'us', 'messageId': 'dbcf6405-a0bd-426f-98ec-92bc005e7b37', 'requestId': 'dbcf6405-a0bd-426f-98ec-92bc005e7b37', 'nlu': {'scoredClassification': {'classification': 'DEEP_LEO', 'score': None}, 'classificationRanking': [{'classification': 'DEEP_LEO', 'score': None}], 'qualifyingClassifications': None, 'ood': None, 'metaData': None, 'entities': None}, 'offense': 'None', 'feedback': {'tag': None, 'updatedOn': None, 'type': 'None'}, 'contentOrigin': 'cib', 'privacy': None, 'inputMethod': 'Keyboard'}, {'text': 'Hello, this is Bing. Welcome to the world of chat. 😊', 'author': 'bot', 'createdAt': '2023-05-31T23:48:15.2389733+00:00', 'timestamp': '2023-05-31T23:48:15.2389733+00:00', 'messageId': 'f8c6654f-2823-4fa2-8de3-37900c8ac434', 'requestId': 'dbcf6405-a0bd-426f-98ec-92bc005e7b37', 'offense': 'None', 'adaptiveCards': [{'type': 'AdaptiveCard', 'version': '1.0', 'body': [{'type': 'TextBlock', 'text': 'Hello, this is Bing. Welcome to the world of chat. 😊\\n', 'wrap': True}]}], 'sourceAttributions': [], 'feedback': {'tag': None, 'updatedOn': None, 'type': 'None'}, 'contentOrigin': 'DeepLeo', 'privacy': None, 'suggestedResponses': [{'text': 'What can you do?', 'author': 'user', 'createdAt': '2023-05-31T23:48:17.6134569+00:00', 'timestamp': '2023-05-31T23:48:17.6134569+00:00', 'messageId': 'c7f0e8f3-a5b4-4aef-991a-5b73648ba773', 'messageType': 'Suggestion', 'offense': 'Unknown', 'feedback': {'tag': None, 'updatedOn': None, 'type': 'None'}, 'contentOrigin': 'SuggestionChipsFalconService', 'privacy': None}, {'text': 'How are you doing today?', 'author': 'user', 'createdAt': '2023-05-31T23:48:17.6134576+00:00', 'timestamp': '2023-05-31T23:48:17.6134576+00:00', 'messageId': 'bb72d96b-b03f-489e-834c-00eb1f545757', 'messageType': 'Suggestion', 'offense': 'Unknown', 'feedback': {'tag': None, 'updatedOn': None, 'type': 'None'}, 'contentOrigin': 'SuggestionChipsFalconService', 'privacy': None}, {'text': 'Tell me a joke', 'author': 'user', 'createdAt': '2023-05-31T23:48:17.6134579+00:00', 'timestamp': '2023-05-31T23:48:17.6134579+00:00', 'messageId': '02505377-41e5-4b68-8f0c-cd9078a44d86', 'messageType': 'Suggestion', 'offense': 'Unknown', 'feedback': {'tag': None, 'updatedOn': None, 'type': 'None'}, 'contentOrigin': 'SuggestionChipsFalconService', 'privacy': None}]}], 'firstNewMessageIndex': 1, 'defaultChatName': None, 'conversationId': '51D|BingProdUnAuthenticatedUsers|F139E0893B634E0C6F821BC82027F48996A7C2627C91BE69F56775A42CF4F3CC', 'requestId': 'dbcf6405-a0bd-426f-98ec-92bc005e7b37', 'conversationExpiryTime': '2023-06-01T05:48:17.6788937Z', 'shouldInitiateConversation': True, 'telemetry': {'metrics': None, 'startTime': '2023-05-31T23:48:11.0111701Z'}, 'throttling': {'maxNumUserMessagesInConversation': 10, 'numUserMessagesInConversation': 1}, 'result': {'value': 'Success', 'message': 'Hello, this is Bing. Welcome to the world of chat. 😊', 'serviceVersion': '20230531.23'}}}\n"
          ]
        }
      ]
    },
    {
      "cell_type": "code",
      "source": [
        "import asyncio\n",
        "from EdgeGPT import Chatbot, ConversationStyle\n",
        "\n",
        "async def main():\n",
        "    bot = await Chatbot.create()\n",
        "    print(await bot.ask(prompt=\"Hello world\", conversation_style=ConversationStyle.creative))\n",
        "    await bot.close()\n",
        "\n",
        "if __name__ == \"__main__\":\n",
        "    asyncio.run(main())\n",
        "    "
      ],
      "metadata": {
        "id": "gxH5o-GqU31z"
      },
      "execution_count": null,
      "outputs": []
    },
    {
      "cell_type": "code",
      "source": [
        "!pip3 install openai"
      ],
      "metadata": {
        "id": "NaSaRS2SrsXq"
      },
      "execution_count": null,
      "outputs": []
    },
    {
      "cell_type": "code",
      "source": [
        "import os\n",
        "import openai\n",
        "\n",
        "openai.api_key = ''\n",
        "\n",
        "response = openai.Completion.create(\n",
        "  model=\"text-davinci-003\",\n",
        "  prompt=\"does the brand Alaska Airlines have non-fungible tokens from this description?: And Flycoin, a startup linked to the owners of regional airline Ravn Alaska and yet-to-be-launched Northern Pacific Airways, is working on a blockchain-based loyalty program which it plans to open to multiple operators in the broader travel ecosystem. Then, there is the, let\\u2019s say, more artsy and playful side of NFTs.\",\n",
        "  temperature=0,\n",
        "  max_tokens=60,\n",
        "  top_p=1.0,\n",
        "  frequency_penalty=0.0,\n",
        "  presence_penalty=0.0\n",
        ")"
      ],
      "metadata": {
        "id": "cjDaoTucrqsX"
      },
      "execution_count": 62,
      "outputs": []
    },
    {
      "cell_type": "code",
      "source": [
        "with open('/content/drive/MyDrive/cookies.json', 'r') as f:\n",
        "    cookies = json.load(f)\n",
        "bot = Chatbot(cookies=cookies)"
      ],
      "metadata": {
        "id": "vtPNeVcX39yr"
      },
      "execution_count": 14,
      "outputs": []
    },
    {
      "cell_type": "code",
      "source": [
        "import asyncio\n",
        "from EdgeGPT import Chatbot, ConversationStyle\n",
        "\n",
        "async def running(brand):\n",
        "  bot = Chatbot(cookies=cookies)\n",
        "  r = {'brand_name':[], 'message':[]}\n",
        "  response = await bot.ask(prompt=\"does the brand {} have non-fungible tokens and when?\".format(brand), \n",
        "                          conversation_style=ConversationStyle.precise, \n",
        "                          wss_link=\"wss://sydney.bing.com/sydney/ChatHub\")\n",
        "\n",
        "  # Create a DataFrame\n",
        "  df = pd.DataFrame(response)\n",
        "  r['brand_name'] = brand\n",
        "  r['message'] = pd.DataFrame(dict(pd.DataFrame(df.loc['result',:]).T.item)).T.message\n",
        "  res = pd.DataFrame(r)\n",
        "  return res\n",
        "  await bot.close()\n",
        "  \n",
        "\n",
        "dfs = []\n",
        "for brand in tqdm(brands.brand_name):\n",
        "  dfs.append(asyncio.run(running(brand)))\n",
        "\n",
        "t = pd.concat(dfs)\n"
      ],
      "metadata": {
        "id": "bjDXqkzQ86em"
      },
      "execution_count": null,
      "outputs": []
    },
    {
      "cell_type": "code",
      "source": [
        "import tensorflow as tf\n",
        "tf.test.gpu_device_name()"
      ],
      "metadata": {
        "colab": {
          "base_uri": "https://localhost:8080/",
          "height": 35
        },
        "id": "csy60yd-SW0q",
        "outputId": "436850d6-8807-40b0-a80c-f65ffcf67fd5"
      },
      "execution_count": 17,
      "outputs": [
        {
          "output_type": "execute_result",
          "data": {
            "text/plain": [
              "'/device:GPU:0'"
            ],
            "application/vnd.google.colaboratory.intrinsic+json": {
              "type": "string"
            }
          },
          "metadata": {},
          "execution_count": 17
        }
      ]
    },
    {
      "cell_type": "code",
      "source": [
        "import asyncio\n",
        "from EdgeGPT import Chatbot, ConversationStyle\n",
        "\n",
        "async def running(brand):\n",
        "  bot = Chatbot(cookies=cookies)\n",
        "  r = {'brand_name':[], 'message':[]}\n",
        "  response = await bot.ask(prompt=\"does the brand {} have non-fungible tokens and when?\".format(brand), \n",
        "                          conversation_style=ConversationStyle.precise, \n",
        "                          wss_link=\"wss://sydney.bing.com/sydney/ChatHub\")\n",
        "\n",
        "  # Create a DataFrame\n",
        "  df = pd.DataFrame(response)\n",
        "  r['brand_name'] = brand\n",
        "  r['message'] = pd.DataFrame(dict(pd.DataFrame(df.loc['result',:]).T.item)).T.message\n",
        "  res = pd.DataFrame(r)\n",
        "  await bot.close()\n",
        "  \n",
        "  return res\n",
        "  \n",
        "\n",
        "# Create a list of tasks to run in parallel\n",
        "tasks = [running(brand) for brand in brands.brand_name]\n",
        "\n",
        "# Use asyncio.gather() to run all tasks in parallel\n",
        "dfs = await asyncio.gather(*tasks)\n",
        "\n",
        "t = pd.concat(dfs)\n"
      ],
      "metadata": {
        "colab": {
          "base_uri": "https://localhost:8080/",
          "height": 381
        },
        "id": "cgRcjtPjN4X-",
        "outputId": "723840be-53ed-4f6a-8ba6-a1cb137ed102"
      },
      "execution_count": 18,
      "outputs": [
        {
          "output_type": "error",
          "ename": "NotAllowedToAccess",
          "evalue": "ignored",
          "traceback": [
            "\u001b[0;31m---------------------------------------------------------------------------\u001b[0m",
            "\u001b[0;31mNotAllowedToAccess\u001b[0m                        Traceback (most recent call last)",
            "\u001b[0;32m<ipython-input-18-b2a4ad1453b1>\u001b[0m in \u001b[0;36m<cell line: 25>\u001b[0;34m()\u001b[0m\n\u001b[1;32m     23\u001b[0m \u001b[0;34m\u001b[0m\u001b[0m\n\u001b[1;32m     24\u001b[0m \u001b[0;31m# Use asyncio.gather() to run all tasks in parallel\u001b[0m\u001b[0;34m\u001b[0m\u001b[0;34m\u001b[0m\u001b[0m\n\u001b[0;32m---> 25\u001b[0;31m \u001b[0mdfs\u001b[0m \u001b[0;34m=\u001b[0m \u001b[0;32mawait\u001b[0m \u001b[0masyncio\u001b[0m\u001b[0;34m.\u001b[0m\u001b[0mgather\u001b[0m\u001b[0;34m(\u001b[0m\u001b[0;34m*\u001b[0m\u001b[0mtasks\u001b[0m\u001b[0;34m)\u001b[0m\u001b[0;34m\u001b[0m\u001b[0;34m\u001b[0m\u001b[0m\n\u001b[0m\u001b[1;32m     26\u001b[0m \u001b[0;34m\u001b[0m\u001b[0m\n\u001b[1;32m     27\u001b[0m \u001b[0mt\u001b[0m \u001b[0;34m=\u001b[0m \u001b[0mpd\u001b[0m\u001b[0;34m.\u001b[0m\u001b[0mconcat\u001b[0m\u001b[0;34m(\u001b[0m\u001b[0mdfs\u001b[0m\u001b[0;34m)\u001b[0m\u001b[0;34m\u001b[0m\u001b[0;34m\u001b[0m\u001b[0m\n",
            "\u001b[0;32m<ipython-input-18-b2a4ad1453b1>\u001b[0m in \u001b[0;36mrunning\u001b[0;34m(brand)\u001b[0m\n\u001b[1;32m      3\u001b[0m \u001b[0;34m\u001b[0m\u001b[0m\n\u001b[1;32m      4\u001b[0m \u001b[0;32masync\u001b[0m \u001b[0;32mdef\u001b[0m \u001b[0mrunning\u001b[0m\u001b[0;34m(\u001b[0m\u001b[0mbrand\u001b[0m\u001b[0;34m)\u001b[0m\u001b[0;34m:\u001b[0m\u001b[0;34m\u001b[0m\u001b[0;34m\u001b[0m\u001b[0m\n\u001b[0;32m----> 5\u001b[0;31m   \u001b[0mbot\u001b[0m \u001b[0;34m=\u001b[0m \u001b[0mChatbot\u001b[0m\u001b[0;34m(\u001b[0m\u001b[0mcookies\u001b[0m\u001b[0;34m=\u001b[0m\u001b[0mcookies\u001b[0m\u001b[0;34m)\u001b[0m\u001b[0;34m\u001b[0m\u001b[0;34m\u001b[0m\u001b[0m\n\u001b[0m\u001b[1;32m      6\u001b[0m   \u001b[0mr\u001b[0m \u001b[0;34m=\u001b[0m \u001b[0;34m{\u001b[0m\u001b[0;34m'brand_name'\u001b[0m\u001b[0;34m:\u001b[0m\u001b[0;34m[\u001b[0m\u001b[0;34m]\u001b[0m\u001b[0;34m,\u001b[0m \u001b[0;34m'message'\u001b[0m\u001b[0;34m:\u001b[0m\u001b[0;34m[\u001b[0m\u001b[0;34m]\u001b[0m\u001b[0;34m}\u001b[0m\u001b[0;34m\u001b[0m\u001b[0;34m\u001b[0m\u001b[0m\n\u001b[1;32m      7\u001b[0m   response = await bot.ask(prompt=\"does the brand {} have non-fungible tokens and when?\".format(brand), \n",
            "\u001b[0;32m/usr/local/lib/python3.10/dist-packages/EdgeGPT.py\u001b[0m in \u001b[0;36m__init__\u001b[0;34m(self, proxy, cookies)\u001b[0m\n\u001b[1;32m    619\u001b[0m         \u001b[0mself\u001b[0m\u001b[0;34m.\u001b[0m\u001b[0mproxy\u001b[0m\u001b[0;34m:\u001b[0m \u001b[0mstr\u001b[0m \u001b[0;34m|\u001b[0m \u001b[0;32mNone\u001b[0m \u001b[0;34m=\u001b[0m \u001b[0mproxy\u001b[0m\u001b[0;34m\u001b[0m\u001b[0;34m\u001b[0m\u001b[0m\n\u001b[1;32m    620\u001b[0m         self.chat_hub: _ChatHub = _ChatHub(\n\u001b[0;32m--> 621\u001b[0;31m             \u001b[0m_Conversation\u001b[0m\u001b[0;34m(\u001b[0m\u001b[0mself\u001b[0m\u001b[0;34m.\u001b[0m\u001b[0mproxy\u001b[0m\u001b[0;34m,\u001b[0m \u001b[0mcookies\u001b[0m\u001b[0;34m=\u001b[0m\u001b[0mcookies\u001b[0m\u001b[0;34m)\u001b[0m\u001b[0;34m,\u001b[0m\u001b[0;34m\u001b[0m\u001b[0;34m\u001b[0m\u001b[0m\n\u001b[0m\u001b[1;32m    622\u001b[0m             \u001b[0mproxy\u001b[0m\u001b[0;34m=\u001b[0m\u001b[0mself\u001b[0m\u001b[0;34m.\u001b[0m\u001b[0mproxy\u001b[0m\u001b[0;34m,\u001b[0m\u001b[0;34m\u001b[0m\u001b[0;34m\u001b[0m\u001b[0m\n\u001b[1;32m    623\u001b[0m             \u001b[0mcookies\u001b[0m\u001b[0;34m=\u001b[0m\u001b[0mcookies\u001b[0m\u001b[0;34m,\u001b[0m\u001b[0;34m\u001b[0m\u001b[0;34m\u001b[0m\u001b[0m\n",
            "\u001b[0;32m/usr/local/lib/python3.10/dist-packages/EdgeGPT.py\u001b[0m in \u001b[0;36m__init__\u001b[0;34m(self, proxy, async_mode, cookies)\u001b[0m\n\u001b[1;32m    349\u001b[0m             ) from exc\n\u001b[1;32m    350\u001b[0m         \u001b[0;32mif\u001b[0m \u001b[0mself\u001b[0m\u001b[0;34m.\u001b[0m\u001b[0mstruct\u001b[0m\u001b[0;34m[\u001b[0m\u001b[0;34m\"result\"\u001b[0m\u001b[0;34m]\u001b[0m\u001b[0;34m[\u001b[0m\u001b[0;34m\"value\"\u001b[0m\u001b[0;34m]\u001b[0m \u001b[0;34m==\u001b[0m \u001b[0;34m\"UnauthorizedRequest\"\u001b[0m\u001b[0;34m:\u001b[0m\u001b[0;34m\u001b[0m\u001b[0;34m\u001b[0m\u001b[0m\n\u001b[0;32m--> 351\u001b[0;31m             \u001b[0;32mraise\u001b[0m \u001b[0mNotAllowedToAccess\u001b[0m\u001b[0;34m(\u001b[0m\u001b[0mself\u001b[0m\u001b[0;34m.\u001b[0m\u001b[0mstruct\u001b[0m\u001b[0;34m[\u001b[0m\u001b[0;34m\"result\"\u001b[0m\u001b[0;34m]\u001b[0m\u001b[0;34m[\u001b[0m\u001b[0;34m\"message\"\u001b[0m\u001b[0;34m]\u001b[0m\u001b[0;34m)\u001b[0m\u001b[0;34m\u001b[0m\u001b[0;34m\u001b[0m\u001b[0m\n\u001b[0m\u001b[1;32m    352\u001b[0m \u001b[0;34m\u001b[0m\u001b[0m\n\u001b[1;32m    353\u001b[0m     \u001b[0;34m@\u001b[0m\u001b[0mstaticmethod\u001b[0m\u001b[0;34m\u001b[0m\u001b[0;34m\u001b[0m\u001b[0m\n",
            "\u001b[0;31mNotAllowedToAccess\u001b[0m: Sorry, you need to login first to access this service."
          ]
        }
      ]
    },
    {
      "cell_type": "code",
      "source": [
        "import asyncio\n",
        "from EdgeGPT import Chatbot, ConversationStyle\n",
        "\n",
        "async def running(brand):\n",
        "    bot = Chatbot(cookies=cookies)\n",
        "    r = {'brand_name':[], 'message':[]}\n",
        "    response = await bot.ask(prompt=\"does the brand {} have non-fungible tokens and when?\".format(brand), \n",
        "                            conversation_style=ConversationStyle.precise, \n",
        "                            wss_link=\"wss://sydney.bing.com/sydney/ChatHub\")\n",
        "\n",
        "    # Create a DataFrame\n",
        "    df = pd.DataFrame(response)\n",
        "    r['brand_name'] = brand\n",
        "    r['message'] = pd.DataFrame(dict(pd.DataFrame(df.loc['result',:]).T.item)).T.message\n",
        "    res = pd.DataFrame(r)\n",
        "\n",
        "    await bot.close()\n",
        "\n",
        "    return res\n",
        "\n",
        "async def batch_process(brands):\n",
        "    return await asyncio.gather(*(running(brand) for brand in brands))\n",
        "\n",
        "dfs = []\n",
        "for i in tqdm(range(0, len(brands.brand_name), 300)):\n",
        "    dfs.extend(asyncio.run(batch_process(brands.brand_name[i:i+300])))\n",
        "\n",
        "t = pd.concat(dfs)\n"
      ],
      "metadata": {
        "id": "zXVs0OzcKmBZ"
      },
      "execution_count": null,
      "outputs": []
    },
    {
      "cell_type": "code",
      "source": [
        "str(pd.DataFrame(dict(pd.DataFrame(df.loc['result',:]).T.item)).T.message)"
      ],
      "metadata": {
        "colab": {
          "base_uri": "https://localhost:8080/",
          "height": 35
        },
        "id": "IcU9eUgxCvaQ",
        "outputId": "ad519b2d-698f-4a56-cb90-415172778058"
      },
      "execution_count": 138,
      "outputs": [
        {
          "output_type": "execute_result",
          "data": {
            "text/plain": [
              "'result    Hello! This is Bing. How can I help you today? 😊\\nName: message, dtype: object'"
            ],
            "application/vnd.google.colaboratory.intrinsic+json": {
              "type": "string"
            }
          },
          "metadata": {},
          "execution_count": 138
        }
      ]
    },
    {
      "cell_type": "code",
      "source": [
        "print(response)"
      ],
      "metadata": {
        "id": "x2T4LdEuBjkV"
      },
      "execution_count": null,
      "outputs": []
    },
    {
      "cell_type": "code",
      "source": [
        "from EdgeGPT import Query, Cookie\n",
        "q = Query(\n",
        "  \"What are you? Give your answer as Python code\",\n",
        "  style=\"creative\",  # or 'balanced'\n",
        "  cookies=cookies\n",
        ")"
      ],
      "metadata": {
        "id": "7aMxSKVP8TQr"
      },
      "execution_count": null,
      "outputs": []
    },
    {
      "cell_type": "code",
      "source": [
        "from EdgeGPT import Query, Cookie\n",
        "\n",
        "q = bot.Query(\"What are you? Give your answer as Python code\")\n",
        "print(q)"
      ],
      "metadata": {
        "colab": {
          "base_uri": "https://localhost:8080/",
          "height": 218
        },
        "id": "ts3cou6G8I8F",
        "outputId": "322be6c3-6e21-4c56-ae4d-38ab2c9c554c"
      },
      "execution_count": 77,
      "outputs": [
        {
          "output_type": "error",
          "ename": "AttributeError",
          "evalue": "ignored",
          "traceback": [
            "\u001b[0;31m---------------------------------------------------------------------------\u001b[0m",
            "\u001b[0;31mAttributeError\u001b[0m                            Traceback (most recent call last)",
            "\u001b[0;32m<ipython-input-77-fd2ade3a419b>\u001b[0m in \u001b[0;36m<cell line: 3>\u001b[0;34m()\u001b[0m\n\u001b[1;32m      1\u001b[0m \u001b[0;32mfrom\u001b[0m \u001b[0mEdgeGPT\u001b[0m \u001b[0;32mimport\u001b[0m \u001b[0mQuery\u001b[0m\u001b[0;34m,\u001b[0m \u001b[0mCookie\u001b[0m\u001b[0;34m\u001b[0m\u001b[0;34m\u001b[0m\u001b[0m\n\u001b[1;32m      2\u001b[0m \u001b[0;34m\u001b[0m\u001b[0m\n\u001b[0;32m----> 3\u001b[0;31m \u001b[0mq\u001b[0m \u001b[0;34m=\u001b[0m \u001b[0mbot\u001b[0m\u001b[0;34m.\u001b[0m\u001b[0mQuery\u001b[0m\u001b[0;34m(\u001b[0m\u001b[0;34m\"What are you? Give your answer as Python code\"\u001b[0m\u001b[0;34m)\u001b[0m\u001b[0;34m\u001b[0m\u001b[0;34m\u001b[0m\u001b[0m\n\u001b[0m\u001b[1;32m      4\u001b[0m \u001b[0mprint\u001b[0m\u001b[0;34m(\u001b[0m\u001b[0mq\u001b[0m\u001b[0;34m)\u001b[0m\u001b[0;34m\u001b[0m\u001b[0;34m\u001b[0m\u001b[0m\n",
            "\u001b[0;31mAttributeError\u001b[0m: 'Chatbot' object has no attribute 'Query'"
          ]
        }
      ]
    }
  ],
  "metadata": {
    "colab": {
      "provenance": [],
      "machine_shape": "hm",
      "gpuType": "T4"
    },
    "kernelspec": {
      "display_name": "Python 3",
      "name": "python3"
    },
    "language_info": {
      "name": "python"
    },
    "accelerator": "GPU"
  },
  "nbformat": 4,
  "nbformat_minor": 0
}
